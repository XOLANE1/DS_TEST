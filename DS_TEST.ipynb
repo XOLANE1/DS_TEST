{
 "cells": [
  {
   "cell_type": "code",
   "execution_count": 20,
   "id": "23da1de5",
   "metadata": {},
   "outputs": [],
   "source": [
    "import pandas as pd \n",
    "import matplotlib.pyplot as plt\n",
    "%matplotlib inline\n",
    "import seaborn as sns"
   ]
  },
  {
   "cell_type": "code",
   "execution_count": 21,
   "id": "aa04e546",
   "metadata": {},
   "outputs": [],
   "source": [
    "df=pd.read_csv('demographics.csv') \n",
    "ds=pd.read_csv('terminations.csv')\n",
    "dx=pd.read_csv('claims.csv')\n",
    "dz=pd.read_csv('hospitalisations.csv')\n"
   ]
  },
  {
   "cell_type": "code",
   "execution_count": 22,
   "id": "db45f819",
   "metadata": {
    "scrolled": true
   },
   "outputs": [
    {
     "data": {
      "text/html": [
       "<div>\n",
       "<style scoped>\n",
       "    .dataframe tbody tr th:only-of-type {\n",
       "        vertical-align: middle;\n",
       "    }\n",
       "\n",
       "    .dataframe tbody tr th {\n",
       "        vertical-align: top;\n",
       "    }\n",
       "\n",
       "    .dataframe thead th {\n",
       "        text-align: right;\n",
       "    }\n",
       "</style>\n",
       "<table border=\"1\" class=\"dataframe\">\n",
       "  <thead>\n",
       "    <tr style=\"text-align: right;\">\n",
       "      <th></th>\n",
       "      <th>BENEFICIARY_ID</th>\n",
       "      <th>YEAR_OF_BIRTH</th>\n",
       "      <th>GENDER</th>\n",
       "      <th>SCHEME_NAME</th>\n",
       "      <th>OPTION_NAME</th>\n",
       "    </tr>\n",
       "  </thead>\n",
       "  <tbody>\n",
       "    <tr>\n",
       "      <th>0</th>\n",
       "      <td>7d4c431ef6cb463295d140e934f8db01fd56f4cff13435...</td>\n",
       "      <td>1944</td>\n",
       "      <td>F</td>\n",
       "      <td>FUNDER A</td>\n",
       "      <td>FUNDER A - Option 1</td>\n",
       "    </tr>\n",
       "    <tr>\n",
       "      <th>1</th>\n",
       "      <td>cdc0b00c0f4de6c297de8c8a02f6c81a912150daaef52f...</td>\n",
       "      <td>1947</td>\n",
       "      <td>F</td>\n",
       "      <td>FUNDER A</td>\n",
       "      <td>FUNDER A - Option 1</td>\n",
       "    </tr>\n",
       "    <tr>\n",
       "      <th>2</th>\n",
       "      <td>9e9bf53b3f78b15fe70b259e220597ef936947b0a89de5...</td>\n",
       "      <td>1952</td>\n",
       "      <td>F</td>\n",
       "      <td>FUNDER A</td>\n",
       "      <td>FUNDER A - Option 1</td>\n",
       "    </tr>\n",
       "    <tr>\n",
       "      <th>3</th>\n",
       "      <td>ebb8f7984cdee7d5e003f8f3dd4f51c6e6957db8614802...</td>\n",
       "      <td>1943</td>\n",
       "      <td>F</td>\n",
       "      <td>FUNDER A</td>\n",
       "      <td>FUNDER A - Option 1</td>\n",
       "    </tr>\n",
       "    <tr>\n",
       "      <th>4</th>\n",
       "      <td>ccdac4c9d7e186ac12554a41a78f0ff4f0750bfc1b78e7...</td>\n",
       "      <td>1927</td>\n",
       "      <td>F</td>\n",
       "      <td>FUNDER A</td>\n",
       "      <td>FUNDER A - Option 1</td>\n",
       "    </tr>\n",
       "    <tr>\n",
       "      <th>...</th>\n",
       "      <td>...</td>\n",
       "      <td>...</td>\n",
       "      <td>...</td>\n",
       "      <td>...</td>\n",
       "      <td>...</td>\n",
       "    </tr>\n",
       "    <tr>\n",
       "      <th>25079</th>\n",
       "      <td>292ffb395ff35518500984443b1c9957e04caa9dfe010b...</td>\n",
       "      <td>1955</td>\n",
       "      <td>F</td>\n",
       "      <td>FUNDER A</td>\n",
       "      <td>FUNDER A - Option 7</td>\n",
       "    </tr>\n",
       "    <tr>\n",
       "      <th>25080</th>\n",
       "      <td>a696c1942e56c800e111cd473e7a05f2edaf50ec40b7db...</td>\n",
       "      <td>1955</td>\n",
       "      <td>M</td>\n",
       "      <td>FUNDER A</td>\n",
       "      <td>FUNDER A - Option 3</td>\n",
       "    </tr>\n",
       "    <tr>\n",
       "      <th>25081</th>\n",
       "      <td>38a91bf363b357aebf08274b6cc76014830723e94ba5fc...</td>\n",
       "      <td>1960</td>\n",
       "      <td>M</td>\n",
       "      <td>FUNDER A</td>\n",
       "      <td>FUNDER A - Option 3</td>\n",
       "    </tr>\n",
       "    <tr>\n",
       "      <th>25082</th>\n",
       "      <td>faff131a11c7e29c6f8b35ce21613786f2bde5710a49df...</td>\n",
       "      <td>1951</td>\n",
       "      <td>M</td>\n",
       "      <td>FUNDER A</td>\n",
       "      <td>FUNDER A - Option 13</td>\n",
       "    </tr>\n",
       "    <tr>\n",
       "      <th>25083</th>\n",
       "      <td>6cae35d137aabdad18b92a830bb58391bda0736d0f307c...</td>\n",
       "      <td>1975</td>\n",
       "      <td>M</td>\n",
       "      <td>FUNDER A</td>\n",
       "      <td>FUNDER A - Option 3</td>\n",
       "    </tr>\n",
       "  </tbody>\n",
       "</table>\n",
       "<p>25084 rows × 5 columns</p>\n",
       "</div>"
      ],
      "text/plain": [
       "                                          BENEFICIARY_ID  YEAR_OF_BIRTH  \\\n",
       "0      7d4c431ef6cb463295d140e934f8db01fd56f4cff13435...           1944   \n",
       "1      cdc0b00c0f4de6c297de8c8a02f6c81a912150daaef52f...           1947   \n",
       "2      9e9bf53b3f78b15fe70b259e220597ef936947b0a89de5...           1952   \n",
       "3      ebb8f7984cdee7d5e003f8f3dd4f51c6e6957db8614802...           1943   \n",
       "4      ccdac4c9d7e186ac12554a41a78f0ff4f0750bfc1b78e7...           1927   \n",
       "...                                                  ...            ...   \n",
       "25079  292ffb395ff35518500984443b1c9957e04caa9dfe010b...           1955   \n",
       "25080  a696c1942e56c800e111cd473e7a05f2edaf50ec40b7db...           1955   \n",
       "25081  38a91bf363b357aebf08274b6cc76014830723e94ba5fc...           1960   \n",
       "25082  faff131a11c7e29c6f8b35ce21613786f2bde5710a49df...           1951   \n",
       "25083  6cae35d137aabdad18b92a830bb58391bda0736d0f307c...           1975   \n",
       "\n",
       "      GENDER SCHEME_NAME           OPTION_NAME  \n",
       "0          F    FUNDER A   FUNDER A - Option 1  \n",
       "1          F    FUNDER A   FUNDER A - Option 1  \n",
       "2          F    FUNDER A   FUNDER A - Option 1  \n",
       "3          F    FUNDER A   FUNDER A - Option 1  \n",
       "4          F    FUNDER A   FUNDER A - Option 1  \n",
       "...      ...         ...                   ...  \n",
       "25079      F    FUNDER A   FUNDER A - Option 7  \n",
       "25080      M    FUNDER A   FUNDER A - Option 3  \n",
       "25081      M    FUNDER A   FUNDER A - Option 3  \n",
       "25082      M    FUNDER A  FUNDER A - Option 13  \n",
       "25083      M    FUNDER A   FUNDER A - Option 3  \n",
       "\n",
       "[25084 rows x 5 columns]"
      ]
     },
     "execution_count": 22,
     "metadata": {},
     "output_type": "execute_result"
    }
   ],
   "source": [
    "df #demographic data"
   ]
  },
  {
   "cell_type": "code",
   "execution_count": 23,
   "id": "883f2722",
   "metadata": {},
   "outputs": [
    {
     "data": {
      "text/plain": [
       "BENEFICIARY_ID    0\n",
       "YEAR_OF_BIRTH     0\n",
       "GENDER            0\n",
       "SCHEME_NAME       0\n",
       "OPTION_NAME       0\n",
       "dtype: int64"
      ]
     },
     "execution_count": 23,
     "metadata": {},
     "output_type": "execute_result"
    }
   ],
   "source": [
    "df.isnull().sum() # there's no null values in the data"
   ]
  },
  {
   "cell_type": "code",
   "execution_count": 24,
   "id": "cc0c3401",
   "metadata": {},
   "outputs": [
    {
     "data": {
      "text/plain": [
       "0           NaN\n",
       "1           NaN\n",
       "2           NaN\n",
       "3           NaN\n",
       "4           NaN\n",
       "          ...  \n",
       "25079       NaN\n",
       "25080    1955.0\n",
       "25081    1960.0\n",
       "25082    1951.0\n",
       "25083    1975.0\n",
       "Name: YEAR_OF_BIRTH, Length: 25084, dtype: float64"
      ]
     },
     "execution_count": 24,
     "metadata": {},
     "output_type": "execute_result"
    }
   ],
   "source": [
    "dm=df['YEAR_OF_BIRTH'].where(df['GENDER']=='M') #date of birth for males\n",
    "dm"
   ]
  },
  {
   "cell_type": "markdown",
   "id": "51ce6862",
   "metadata": {},
   "source": [
    "# Question 1"
   ]
  },
  {
   "cell_type": "code",
   "execution_count": 25,
   "id": "4ad8d86b",
   "metadata": {
    "scrolled": true
   },
   "outputs": [
    {
     "name": "stderr",
     "output_type": "stream",
     "text": [
      "C:\\Users\\gift\\Anaconda3\\lib\\site-packages\\seaborn\\distributions.py:2619: FutureWarning: `distplot` is a deprecated function and will be removed in a future version. Please adapt your code to use either `displot` (a figure-level function with similar flexibility) or `histplot` (an axes-level function for histograms).\n",
      "  warnings.warn(msg, FutureWarning)\n"
     ]
    },
    {
     "data": {
      "text/plain": [
       "Text(0, 0.5, 'Number_of_males')"
      ]
     },
     "execution_count": 25,
     "metadata": {},
     "output_type": "execute_result"
    },
    {
     "data": {
      "image/png": "[encoded data removed]",
      "text/plain": [
       "<Figure size 432x288 with 1 Axes>"
      ]
     },
     "metadata": {
      "needs_background": "light"
     },
     "output_type": "display_data"
    }
   ],
   "source": [
    "sns.distplot(dm,bins=5,color='b') #dist plot for males, where age is grouped in 5-year age bands\n",
    "plt.ylabel('Number_of_males')"
   ]
  },
  {
   "cell_type": "code",
   "execution_count": 26,
   "id": "1b350a3b",
   "metadata": {},
   "outputs": [
    {
     "data": {
      "text/plain": [
       "0        1944.0\n",
       "1        1947.0\n",
       "2        1952.0\n",
       "3        1943.0\n",
       "4        1927.0\n",
       "          ...  \n",
       "25079    1955.0\n",
       "25080       NaN\n",
       "25081       NaN\n",
       "25082       NaN\n",
       "25083       NaN\n",
       "Name: YEAR_OF_BIRTH, Length: 25084, dtype: float64"
      ]
     },
     "execution_count": 26,
     "metadata": {},
     "output_type": "execute_result"
    }
   ],
   "source": [
    "dfm=df['YEAR_OF_BIRTH'].where(df['GENDER']=='F') #date of birth for females\n",
    "dfm"
   ]
  },
  {
   "cell_type": "code",
   "execution_count": 27,
   "id": "b37c5b2d",
   "metadata": {},
   "outputs": [
    {
     "name": "stderr",
     "output_type": "stream",
     "text": [
      "C:\\Users\\gift\\Anaconda3\\lib\\site-packages\\seaborn\\distributions.py:2619: FutureWarning: `distplot` is a deprecated function and will be removed in a future version. Please adapt your code to use either `displot` (a figure-level function with similar flexibility) or `histplot` (an axes-level function for histograms).\n",
      "  warnings.warn(msg, FutureWarning)\n"
     ]
    },
    {
     "data": {
      "text/plain": [
       "Text(0, 0.5, 'Number_of_females')"
      ]
     },
     "execution_count": 27,
     "metadata": {},
     "output_type": "execute_result"
    },
    {
     "data": {
      "image/png": "[encoded data removed]",
      "text/plain": [
       "<Figure size 432x288 with 1 Axes>"
      ]
     },
     "metadata": {
      "needs_background": "light"
     },
     "output_type": "display_data"
    }
   ],
   "source": [
    "sns.distplot(dfm,bins=5,color='r') #dist plot for females, where age is grouped in 5-year age bands\n",
    "plt.ylabel('Number_of_females')"
   ]
  },
  {
   "cell_type": "markdown",
   "id": "15150449",
   "metadata": {},
   "source": [
    "\n",
    "# Question 2"
   ]
  },
  {
   "cell_type": "code",
   "execution_count": 28,
   "id": "dca0b4af",
   "metadata": {},
   "outputs": [
    {
     "data": {
      "text/html": [
       "<div>\n",
       "<style scoped>\n",
       "    .dataframe tbody tr th:only-of-type {\n",
       "        vertical-align: middle;\n",
       "    }\n",
       "\n",
       "    .dataframe tbody tr th {\n",
       "        vertical-align: top;\n",
       "    }\n",
       "\n",
       "    .dataframe thead th {\n",
       "        text-align: right;\n",
       "    }\n",
       "</style>\n",
       "<table border=\"1\" class=\"dataframe\">\n",
       "  <thead>\n",
       "    <tr style=\"text-align: right;\">\n",
       "      <th></th>\n",
       "      <th>BENEFICIARY_ID</th>\n",
       "      <th>HOSPITAL_AUTH_NUMBER</th>\n",
       "      <th>IN_HOSPITAL</th>\n",
       "      <th>DATE_ADMITTED</th>\n",
       "      <th>DATE_DISCHARGED</th>\n",
       "      <th>DAYS_IN_HOSPITAL</th>\n",
       "    </tr>\n",
       "  </thead>\n",
       "  <tbody>\n",
       "    <tr>\n",
       "      <th>0</th>\n",
       "      <td>c9e4637a580b615e631c4cc62aeafffde3c965cff78ba8...</td>\n",
       "      <td>0707fe5bcf9404beae0eee57a7a2d2851d367d54bd360a...</td>\n",
       "      <td>False</td>\n",
       "      <td>2016-02-12</td>\n",
       "      <td>2016-02-12</td>\n",
       "      <td>0.0</td>\n",
       "    </tr>\n",
       "    <tr>\n",
       "      <th>1</th>\n",
       "      <td>0fb6c80657084f8137c381aaa54a7ed19b729290423bd8...</td>\n",
       "      <td>be99d5a07410b7f42d0cff350565d5e4e2afb4160ccb0a...</td>\n",
       "      <td>False</td>\n",
       "      <td>2016-01-01</td>\n",
       "      <td>2016-01-01</td>\n",
       "      <td>0.0</td>\n",
       "    </tr>\n",
       "    <tr>\n",
       "      <th>2</th>\n",
       "      <td>deba43f70daf8ecff1f863fbdd4fb61ad514d22e0b741d...</td>\n",
       "      <td>a3ebcdb85689b18d81eb6a61da0f9e8f2348d8e5171667...</td>\n",
       "      <td>False</td>\n",
       "      <td>2016-06-23</td>\n",
       "      <td>2016-06-23</td>\n",
       "      <td>0.0</td>\n",
       "    </tr>\n",
       "    <tr>\n",
       "      <th>3</th>\n",
       "      <td>8e6bd29bafb1626abcf14ac1597de200a5c1d29dadb881...</td>\n",
       "      <td>76179edb52c96533697784c46274313e3c24eb4a8d970a...</td>\n",
       "      <td>False</td>\n",
       "      <td>2016-01-01</td>\n",
       "      <td>2016-12-31</td>\n",
       "      <td>0.0</td>\n",
       "    </tr>\n",
       "    <tr>\n",
       "      <th>4</th>\n",
       "      <td>d42403ad35e67c1f7bc7c970fa11314aa236dcb189ecc8...</td>\n",
       "      <td>dc20913e6f71959b03fc0eea17e5b1c2c8803a7ae2b5f3...</td>\n",
       "      <td>False</td>\n",
       "      <td>2016-01-01</td>\n",
       "      <td>2016-01-01</td>\n",
       "      <td>0.0</td>\n",
       "    </tr>\n",
       "    <tr>\n",
       "      <th>...</th>\n",
       "      <td>...</td>\n",
       "      <td>...</td>\n",
       "      <td>...</td>\n",
       "      <td>...</td>\n",
       "      <td>...</td>\n",
       "      <td>...</td>\n",
       "    </tr>\n",
       "    <tr>\n",
       "      <th>111899</th>\n",
       "      <td>f2fe9323c8adfb220fae01ff9f48b7c7918dec45062892...</td>\n",
       "      <td>c456833f6f18fa00f5abc43a6512f3d58158ef29b733ed...</td>\n",
       "      <td>False</td>\n",
       "      <td>2015-01-01</td>\n",
       "      <td>2015-01-01</td>\n",
       "      <td>0.0</td>\n",
       "    </tr>\n",
       "    <tr>\n",
       "      <th>111900</th>\n",
       "      <td>02f4ca5277e2e276db29ec681158c0f69c3cd1817bdd4e...</td>\n",
       "      <td>4f69f18ec209a2135512f31f9870d9c4558fe42fc7576a...</td>\n",
       "      <td>False</td>\n",
       "      <td>2016-08-27</td>\n",
       "      <td>2016-08-27</td>\n",
       "      <td>0.0</td>\n",
       "    </tr>\n",
       "    <tr>\n",
       "      <th>111901</th>\n",
       "      <td>4aaf6f591ca0ba0196c73ddca5ce90ba37f62b147d184a...</td>\n",
       "      <td>1dd07543c7bd8297c177ea577cfdf5c35bc7f6f397a6bf...</td>\n",
       "      <td>True</td>\n",
       "      <td>2014-11-13</td>\n",
       "      <td>2014-11-24</td>\n",
       "      <td>11.0</td>\n",
       "    </tr>\n",
       "    <tr>\n",
       "      <th>111902</th>\n",
       "      <td>5d5cd42f9417fd86c485df4f63e843bb8d533c276f2e00...</td>\n",
       "      <td>709d1ff34481f2e71ddb597ebfd51d85d1e20472f4c42b...</td>\n",
       "      <td>False</td>\n",
       "      <td>2015-10-04</td>\n",
       "      <td>2015-10-04</td>\n",
       "      <td>0.0</td>\n",
       "    </tr>\n",
       "    <tr>\n",
       "      <th>111903</th>\n",
       "      <td>95a29170ec6e01f1c2278031d68848ce75332cdb598458...</td>\n",
       "      <td>efd6e9e84295d3425fb2dcca9876e42757b5a3c6e7c315...</td>\n",
       "      <td>True</td>\n",
       "      <td>2016-01-13</td>\n",
       "      <td>2016-01-19</td>\n",
       "      <td>6.0</td>\n",
       "    </tr>\n",
       "  </tbody>\n",
       "</table>\n",
       "<p>111904 rows × 6 columns</p>\n",
       "</div>"
      ],
      "text/plain": [
       "                                           BENEFICIARY_ID  \\\n",
       "0       c9e4637a580b615e631c4cc62aeafffde3c965cff78ba8...   \n",
       "1       0fb6c80657084f8137c381aaa54a7ed19b729290423bd8...   \n",
       "2       deba43f70daf8ecff1f863fbdd4fb61ad514d22e0b741d...   \n",
       "3       8e6bd29bafb1626abcf14ac1597de200a5c1d29dadb881...   \n",
       "4       d42403ad35e67c1f7bc7c970fa11314aa236dcb189ecc8...   \n",
       "...                                                   ...   \n",
       "111899  f2fe9323c8adfb220fae01ff9f48b7c7918dec45062892...   \n",
       "111900  02f4ca5277e2e276db29ec681158c0f69c3cd1817bdd4e...   \n",
       "111901  4aaf6f591ca0ba0196c73ddca5ce90ba37f62b147d184a...   \n",
       "111902  5d5cd42f9417fd86c485df4f63e843bb8d533c276f2e00...   \n",
       "111903  95a29170ec6e01f1c2278031d68848ce75332cdb598458...   \n",
       "\n",
       "                                     HOSPITAL_AUTH_NUMBER  IN_HOSPITAL  \\\n",
       "0       0707fe5bcf9404beae0eee57a7a2d2851d367d54bd360a...        False   \n",
       "1       be99d5a07410b7f42d0cff350565d5e4e2afb4160ccb0a...        False   \n",
       "2       a3ebcdb85689b18d81eb6a61da0f9e8f2348d8e5171667...        False   \n",
       "3       76179edb52c96533697784c46274313e3c24eb4a8d970a...        False   \n",
       "4       dc20913e6f71959b03fc0eea17e5b1c2c8803a7ae2b5f3...        False   \n",
       "...                                                   ...          ...   \n",
       "111899  c456833f6f18fa00f5abc43a6512f3d58158ef29b733ed...        False   \n",
       "111900  4f69f18ec209a2135512f31f9870d9c4558fe42fc7576a...        False   \n",
       "111901  1dd07543c7bd8297c177ea577cfdf5c35bc7f6f397a6bf...         True   \n",
       "111902  709d1ff34481f2e71ddb597ebfd51d85d1e20472f4c42b...        False   \n",
       "111903  efd6e9e84295d3425fb2dcca9876e42757b5a3c6e7c315...         True   \n",
       "\n",
       "       DATE_ADMITTED DATE_DISCHARGED  DAYS_IN_HOSPITAL  \n",
       "0         2016-02-12      2016-02-12               0.0  \n",
       "1         2016-01-01      2016-01-01               0.0  \n",
       "2         2016-06-23      2016-06-23               0.0  \n",
       "3         2016-01-01      2016-12-31               0.0  \n",
       "4         2016-01-01      2016-01-01               0.0  \n",
       "...              ...             ...               ...  \n",
       "111899    2015-01-01      2015-01-01               0.0  \n",
       "111900    2016-08-27      2016-08-27               0.0  \n",
       "111901    2014-11-13      2014-11-24              11.0  \n",
       "111902    2015-10-04      2015-10-04               0.0  \n",
       "111903    2016-01-13      2016-01-19               6.0  \n",
       "\n",
       "[111904 rows x 6 columns]"
      ]
     },
     "execution_count": 28,
     "metadata": {},
     "output_type": "execute_result"
    }
   ],
   "source": [
    "dz #hospitalisations"
   ]
  },
  {
   "cell_type": "code",
   "execution_count": 29,
   "id": "5c5ff5de",
   "metadata": {},
   "outputs": [
    {
     "data": {
      "text/plain": [
       "BENEFICIARY_ID          0\n",
       "HOSPITAL_AUTH_NUMBER    0\n",
       "IN_HOSPITAL             0\n",
       "DATE_ADMITTED           0\n",
       "DATE_DISCHARGED         1\n",
       "DAYS_IN_HOSPITAL        0\n",
       "dtype: int64"
      ]
     },
     "execution_count": 29,
     "metadata": {},
     "output_type": "execute_result"
    }
   ],
   "source": [
    "dz.isnull().sum() # there's no null values in the data"
   ]
  },
  {
   "cell_type": "markdown",
   "id": "908cfdc8",
   "metadata": {},
   "source": [
    "# Returning the top 10 beneficiaries with the most hospital admissions"
   ]
  },
  {
   "cell_type": "code",
   "execution_count": 30,
   "id": "a5cef504",
   "metadata": {},
   "outputs": [],
   "source": [
    "dhos=dz['BENEFICIARY_ID'].where(dz['IN_HOSPITAL']==True).groupby(dz['BENEFICIARY_ID']).count()"
   ]
  },
  {
   "cell_type": "code",
   "execution_count": 69,
   "id": "cbb33f9d",
   "metadata": {},
   "outputs": [
    {
     "data": {
      "text/plain": [
       "BENEFICIARY_ID\n",
       "b99afd0d08fe8b6c42a0b5f37ddf8d2a8ccbc1f6b926d6d15d2b649df182c46b    42\n",
       "891111b41231ec93c3362e3575e2599306ed730ed2249a7d6a55dfc10dc39201    37\n",
       "3bf62cbc012f768a3b14721e667f541fed907bbed93c97f7f9154fc52ae89722    31\n",
       "6e42c7fd63b0a7b1bfed2d66c1ca6b5adcccf72f47aa79abc31670774f2755c1    28\n",
       "82f270880fe689b24749d0da5bfa0d2d9fc06932b348fc12528d442cdcfaca27    28\n",
       "31c407e06b7996ddb52dd2b7a0fd40e8fa60bb07c00ea6c795b4f573ebc8384b    26\n",
       "2d91641f7cee8d6c438ff13765ee858ffe1e4976e82f7610a0c6b57a72aeaecf    26\n",
       "9784da0bf4b0af495de8e09322d8b7209a2c92a0155af01b50850102dcbeb8f5    25\n",
       "3ca441535c5d073b7d2313bb8cbcea048234b6b7bf1624e97e2d49637b540aea    23\n",
       "73415b030ff59b866f40743e3165e4fc0f00efda1f1074c7a1b500eaa72f6a9f    23\n",
       "Name: BENEFICIARY_ID, dtype: int64"
      ]
     },
     "execution_count": 69,
     "metadata": {},
     "output_type": "execute_result"
    }
   ],
   "source": [
    "dhos.sort_values(ascending=False).head(10)"
   ]
  },
  {
   "cell_type": "code",
   "execution_count": null,
   "id": "b2fefbc6",
   "metadata": {},
   "outputs": [],
   "source": [
    "ds #terminations data"
   ]
  },
  {
   "cell_type": "code",
   "execution_count": null,
   "id": "945c0241",
   "metadata": {},
   "outputs": [],
   "source": [
    "dx #claims data"
   ]
  },
  {
   "cell_type": "code",
   "execution_count": null,
   "id": "a27e8080",
   "metadata": {},
   "outputs": [],
   "source": [
    "dz #hospitalisations"
   ]
  }
 ],
 "metadata": {
  "kernelspec": {
   "display_name": "Python 3 (ipykernel)",
   "language": "python",
   "name": "python3"
  },
  "language_info": {
   "codemirror_mode": {
    "name": "ipython",
    "version": 3
   },
   "file_extension": ".py",
   "mimetype": "text/x-python",
   "name": "python",
   "nbconvert_exporter": "python",
   "pygments_lexer": "ipython3",
   "version": "3.9.12"
  }
 },
 "nbformat": 4,
 "nbformat_minor": 5
}
